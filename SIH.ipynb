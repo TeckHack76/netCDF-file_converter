{
 "cells": [
  {
   "metadata": {
    "ExecuteTime": {
     "end_time": "2025-08-28T09:37:41.006183Z",
     "start_time": "2025-08-28T09:37:40.582774Z"
    }
   },
   "cell_type": "code",
   "source": [
    "import netCDF4 as nc\n",
    "import pandas as pd\n",
    "import numpy as np\n",
    "\n",
    "# Open file\n",
    "ds = nc.Dataset(r\"D:\\downloads\\20250326-050935Z-032951Z-dayComposite-metop-c-avhrr.nc\")"
   ],
   "id": "5b63ab7805ad87d8",
   "outputs": [],
   "execution_count": 1
  },
  {
   "metadata": {
    "ExecuteTime": {
     "end_time": "2025-08-28T09:37:53.148993Z",
     "start_time": "2025-08-28T09:37:52.316055Z"
    }
   },
   "cell_type": "code",
   "source": [
    "# lat, lon\n",
    "lat = ds.variables['lat'][:]\n",
    "lon = ds.variables['lon'][:]\n",
    "\n",
    "# bands (they are 2D arrays of shape lat x lon)\n",
    "band1 = ds.variables['band1'][:]\n",
    "band2 = ds.variables['band2'][:]\n",
    "band3 = ds.variables['band3a'][:]   # note: name is 'band3a'\n",
    "band4 = ds.variables['band4'][:]\n",
    "band5 = ds.variables['band5'][:]\n",
    "\n",
    "print(\"Shapes:\", lat.shape, lon.shape, band1.shape)"
   ],
   "id": "fe1bc2f35866ee82",
   "outputs": [
    {
     "name": "stdout",
     "output_type": "stream",
     "text": [
      "Shapes: (5143,) (6243,) (5143, 6243)\n"
     ]
    }
   ],
   "execution_count": 2
  },
  {
   "metadata": {
    "ExecuteTime": {
     "end_time": "2025-08-28T09:38:06.627372Z",
     "start_time": "2025-08-28T09:38:05.090116Z"
    }
   },
   "cell_type": "code",
   "source": [
    "# create meshgrid of lat/lon (2D grid)\n",
    "lon_grid, lat_grid = np.meshgrid(lon, lat)\n",
    "\n",
    "# flatten everything\n",
    "df = pd.DataFrame({\n",
    "    \"lat\": lat_grid.flatten(),\n",
    "    \"lon\": lon_grid.flatten(),\n",
    "    \"band1\": band1.flatten(),\n",
    "    \"band2\": band2.flatten(),\n",
    "    \"band3\": band3.flatten(),\n",
    "    \"band4\": band4.flatten(),\n",
    "    \"band5\": band5.flatten()\n",
    "})"
   ],
   "id": "4dfe32a8af06a99e",
   "outputs": [],
   "execution_count": 3
  },
  {
   "metadata": {
    "ExecuteTime": {
     "end_time": "2025-08-28T09:40:55.373399Z",
     "start_time": "2025-08-28T09:38:17.081269Z"
    }
   },
   "cell_type": "code",
   "source": [
    "# save to CSV\n",
    "df.to_csv(\"processed.csv\", index=False)\n",
    "\n",
    "print(\"Saved processed.csv with shape:\", df.shape)"
   ],
   "id": "dba9459aed954ed",
   "outputs": [
    {
     "name": "stdout",
     "output_type": "stream",
     "text": [
      "Saved processed.csv with shape: (32107749, 7)\n"
     ]
    }
   ],
   "execution_count": 4
  },
  {
   "metadata": {
    "ExecuteTime": {
     "end_time": "2025-08-28T09:40:55.490869Z",
     "start_time": "2025-08-28T09:40:55.486652Z"
    }
   },
   "cell_type": "code",
   "source": "df = df.iloc[::50, :]   # take every 50th row",
   "id": "44c52c9ecc86a06",
   "outputs": [],
   "execution_count": 5
  },
  {
   "metadata": {
    "ExecuteTime": {
     "end_time": "2025-08-28T09:45:32.209935Z",
     "start_time": "2025-08-28T09:44:57.291711Z"
    }
   },
   "cell_type": "code",
   "source": [
    "import plotly.express as px\n",
    "import streamlit as st\n",
    "df = pd.read_csv(\"processed.csv\")\n",
    "fig = px.scatter(df, x=\"lon\", y=\"lat\", color=\"band1\", title=\"Band1 Visualization\")\n",
    "st.plotly_chart(fig)"
   ],
   "id": "8b7b0eeb2dbd159f",
   "outputs": [
    {
     "name": "stderr",
     "output_type": "stream",
     "text": [
      "2025-08-28 15:15:29.728 WARNING streamlit.runtime.scriptrunner_utils.script_run_context: Thread 'MainThread': missing ScriptRunContext! This warning can be ignored when running in bare mode.\n",
      "2025-08-28 15:15:30.030 WARNING streamlit.runtime.scriptrunner_utils.script_run_context: Thread 'MainThread': missing ScriptRunContext! This warning can be ignored when running in bare mode.\n",
      "2025-08-28 15:15:31.622 WARNING streamlit.runtime.scriptrunner_utils.script_run_context: Thread 'MainThread': missing ScriptRunContext! This warning can be ignored when running in bare mode.\n",
      "2025-08-28 15:15:31.912 \n",
      "  \u001B[33m\u001B[1mWarning:\u001B[0m to view this Streamlit app on a browser, run it with the following\n",
      "  command:\n",
      "\n",
      "    streamlit run C:\\Users\\Ayush\\AppData\\Local\\Packages\\PythonSoftwareFoundation.Python.3.12_qbz5n2kfra8p0\\LocalCache\\local-packages\\Python312\\site-packages\\ipykernel_launcher.py [ARGUMENTS]\n",
      "2025-08-28 15:15:31.912 Thread 'MainThread': missing ScriptRunContext! This warning can be ignored when running in bare mode.\n",
      "2025-08-28 15:15:32.078 Thread 'MainThread': missing ScriptRunContext! This warning can be ignored when running in bare mode.\n"
     ]
    },
    {
     "data": {
      "text/plain": [
       "DeltaGenerator()"
      ]
     },
     "execution_count": 7,
     "metadata": {},
     "output_type": "execute_result"
    }
   ],
   "execution_count": 7
  },
  {
   "metadata": {
    "ExecuteTime": {
     "end_time": "2025-09-01T16:38:44.098280Z",
     "start_time": "2025-09-01T16:38:43.945200Z"
    }
   },
   "cell_type": "code",
   "source": [
    "import netCDF4 as nc\n",
    "\n",
    "ds = nc.Dataset(\"data/D1901800_000.nc\")\n",
    "print(ds.variables.keys())"
   ],
   "id": "ef30c77da2045972",
   "outputs": [
    {
     "name": "stdout",
     "output_type": "stream",
     "text": [
      "dict_keys(['DATA_TYPE', 'FORMAT_VERSION', 'HANDBOOK_VERSION', 'REFERENCE_DATE_TIME', 'DATE_CREATION', 'DATE_UPDATE', 'PLATFORM_NUMBER', 'PROJECT_NAME', 'PI_NAME', 'STATION_PARAMETERS', 'CYCLE_NUMBER', 'DIRECTION', 'DATA_CENTRE', 'DC_REFERENCE', 'DATA_STATE_INDICATOR', 'DATA_MODE', 'PLATFORM_TYPE', 'FLOAT_SERIAL_NO', 'FIRMWARE_VERSION', 'WMO_INST_TYPE', 'JULD', 'JULD_QC', 'JULD_LOCATION', 'LATITUDE', 'LONGITUDE', 'POSITION_QC', 'POSITIONING_SYSTEM', 'PROFILE_PRES_QC', 'PROFILE_TEMP_QC', 'PROFILE_PSAL_QC', 'VERTICAL_SAMPLING_SCHEME', 'CONFIG_MISSION_NUMBER', 'PRES', 'PRES_QC', 'PRES_ADJUSTED', 'PRES_ADJUSTED_QC', 'PRES_ADJUSTED_ERROR', 'TEMP', 'TEMP_QC', 'TEMP_ADJUSTED', 'TEMP_ADJUSTED_QC', 'TEMP_ADJUSTED_ERROR', 'PSAL', 'PSAL_QC', 'PSAL_ADJUSTED', 'PSAL_ADJUSTED_QC', 'PSAL_ADJUSTED_ERROR', 'PARAMETER', 'SCIENTIFIC_CALIB_EQUATION', 'SCIENTIFIC_CALIB_COEFFICIENT', 'SCIENTIFIC_CALIB_COMMENT', 'SCIENTIFIC_CALIB_DATE', 'HISTORY_INSTITUTION', 'HISTORY_STEP', 'HISTORY_SOFTWARE', 'HISTORY_SOFTWARE_RELEASE', 'HISTORY_REFERENCE', 'HISTORY_DATE', 'HISTORY_ACTION', 'HISTORY_PARAMETER', 'HISTORY_START_PRES', 'HISTORY_STOP_PRES', 'HISTORY_PREVIOUS_VALUE', 'HISTORY_QCTEST'])\n"
     ]
    }
   ],
   "execution_count": 1
  },
  {
   "metadata": {
    "ExecuteTime": {
     "end_time": "2025-09-01T16:43:29.509968Z",
     "start_time": "2025-09-01T16:43:29.442550Z"
    }
   },
   "cell_type": "code",
   "source": [
    "import netCDF4 as nc\n",
    "import pandas as pd\n",
    "import numpy as np\n",
    "\n",
    "# Load one profile file\n",
    "\n",
    "ds = nc.Dataset(r\"D:\\Coding\\Ml_Projects\\SIH\\Data\\D1901800_000.nc\")\n",
    "\n",
    "# Extract variables safely\n",
    "pres = ds[\"PRES_ADJUSTED\"][:].filled(np.nan) if \"PRES_ADJUSTED\" in ds.variables else ds[\"PRES\"][:].filled(np.nan)\n",
    "temp = ds[\"TEMP_ADJUSTED\"][:].filled(np.nan) if \"TEMP_ADJUSTED\" in ds.variables else ds[\"TEMP\"][:].filled(np.nan)\n",
    "psal = ds[\"PSAL_ADJUSTED\"][:].filled(np.nan) if \"PSAL_ADJUSTED\" in ds.variables else ds[\"PSAL\"][:].filled(np.nan)\n",
    "\n",
    "lat = float(ds[\"LATITUDE\"][0]) if \"LATITUDE\" in ds.variables else np.nan\n",
    "lon = float(ds[\"LONGITUDE\"][0]) if \"LONGITUDE\" in ds.variables else np.nan\n",
    "time = pd.to_datetime(ds[\"JULD\"][:], origin=\"1950-01-01\", unit=\"D\")[0] if \"JULD\" in ds.variables else None\n",
    "\n",
    "platform = \"\".join([p.tobytes().decode('utf-8').strip() for p in ds[\"PLATFORM_NUMBER\"][:]]) if \"PLATFORM_NUMBER\" in ds.variables else \"unknown\"\n",
    "cycle = int(ds[\"CYCLE_NUMBER\"][0]) if \"CYCLE_NUMBER\" in ds.variables else -1\n",
    "\n",
    "if \"PLATFORM_NUMBER\" in ds.variables:\n",
    "    try:\n",
    "        platform = \"\".join([p.tobytes().decode('utf-8').strip() for p in ds[\"PLATFORM_NUMBER\"][:]])\n",
    "    except Exception:\n",
    "        platform = str(ds[\"PLATFORM_NUMBER\"][:])\n",
    "else:\n",
    "    platform = \"unknown\"\n",
    "\n",
    "# Build dataframe\n",
    "df = pd.DataFrame({\n",
    "    \"platform_number\": platform,\n",
    "    \"cycle_number\": cycle,\n",
    "    \"time\": time,\n",
    "    \"latitude\": lat,\n",
    "    \"longitude\": lon,\n",
    "    \"pressure_dbar\": pres.flatten(),\n",
    "    \"temperature_C\": temp.flatten(),\n",
    "    \"salinity_psu\": psal.flatten()\n",
    "}).dropna()\n",
    "\n",
    "# Save CSV\n",
    "df.to_csv(\"argo_profile.csv\", index=False)\n",
    "print(\"✅ Saved argo_profile.csv\")\n",
    "print(df.head())\n"
   ],
   "id": "fa33d17bba11a178",
   "outputs": [
    {
     "name": "stdout",
     "output_type": "stream",
     "text": [
      "✅ Saved argo_profile.csv\n",
      "   platform_number  cycle_number                          time  latitude  \\\n",
      "13  19018001901800             0 2016-02-22 13:36:31.391999853 -48.60123   \n",
      "14  19018001901800             0 2016-02-22 13:36:31.391999853 -48.60123   \n",
      "15  19018001901800             0 2016-02-22 13:36:31.391999853 -48.60123   \n",
      "16  19018001901800             0 2016-02-22 13:36:31.391999853 -48.60123   \n",
      "17  19018001901800             0 2016-02-22 13:36:31.391999853 -48.60123   \n",
      "\n",
      "    longitude  pressure_dbar  temperature_C  salinity_psu  \n",
      "13  -20.01239      16.040001          5.964     33.834999  \n",
      "14  -20.01239      17.959999          5.964     33.834999  \n",
      "15  -20.01239      19.879999          5.964     33.834999  \n",
      "16  -20.01239      22.040001          5.960     33.834999  \n",
      "17  -20.01239      24.080000          5.959     33.834999  \n"
     ]
    }
   ],
   "execution_count": 10
  },
  {
   "metadata": {},
   "cell_type": "code",
   "outputs": [],
   "execution_count": null,
   "source": "",
   "id": "9a5c353977360538"
  }
 ],
 "metadata": {
  "kernelspec": {
   "name": "python3",
   "language": "python",
   "display_name": "Python 3 (ipykernel)"
  }
 },
 "nbformat": 5,
 "nbformat_minor": 9
}
